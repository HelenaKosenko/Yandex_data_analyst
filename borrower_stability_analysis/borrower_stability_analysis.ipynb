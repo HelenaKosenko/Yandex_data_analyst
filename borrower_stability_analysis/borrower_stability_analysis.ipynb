{
 "cells": [
  {
   "cell_type": "markdown",
   "id": "386f2ae7",
   "metadata": {
    "deletable": false,
    "editable": false,
    "id": "386f2ae7"
   },
   "source": [
    "# Исследование надежности заемщиков\n"
   ]
  },
  {
   "cell_type": "markdown",
   "id": "26613308",
   "metadata": {
    "id": "26613308"
   },
   "source": [
    "## Откроем таблицу и изучим общую информацию о данных"
   ]
  },
  {
   "cell_type": "markdown",
   "id": "3c9f838e",
   "metadata": {
    "deletable": false,
    "id": "3c9f838e"
   },
   "source": [
    "**Задание 1. Импортируем библиотеку pandas. Считаем данные из csv-файла в датафрейм и сохраним в переменную `data`. Путь к файлу:**\n",
    "\n",
    "`/datasets/data.csv`"
   ]
  },
  {
   "cell_type": "code",
   "execution_count": 1,
   "id": "77a68a90",
   "metadata": {
    "deletable": false,
    "id": "77a68a90"
   },
   "outputs": [],
   "source": [
    "import pandas as pd\n",
    "\n",
    "try:\n",
    "    data = pd.read_csv('data2.csv')\n",
    "except:\n",
    "    data = pd.read_csv('https://code.s3.yandex.net/datasets/data.csv')"
   ]
  },
  {
   "cell_type": "markdown",
   "id": "45365635",
   "metadata": {
    "deletable": false,
    "id": "45365635"
   },
   "source": [
    "**Задание 2. Выведем первые 20 строчек датафрейма `data` на экран.**"
   ]
  },
  {
   "cell_type": "code",
   "execution_count": 2,
   "id": "b0451a9a",
   "metadata": {
    "deletable": false,
    "id": "b0451a9a",
    "outputId": "1a8f3ef2-d323-4ec2-ddf7-89670b5944c4"
   },
   "outputs": [
    {
     "data": {
      "text/html": [
       "<div>\n",
       "<style scoped>\n",
       "    .dataframe tbody tr th:only-of-type {\n",
       "        vertical-align: middle;\n",
       "    }\n",
       "\n",
       "    .dataframe tbody tr th {\n",
       "        vertical-align: top;\n",
       "    }\n",
       "\n",
       "    .dataframe thead th {\n",
       "        text-align: right;\n",
       "    }\n",
       "</style>\n",
       "<table border=\"1\" class=\"dataframe\">\n",
       "  <thead>\n",
       "    <tr style=\"text-align: right;\">\n",
       "      <th></th>\n",
       "      <th>children</th>\n",
       "      <th>days_employed</th>\n",
       "      <th>dob_years</th>\n",
       "      <th>education</th>\n",
       "      <th>education_id</th>\n",
       "      <th>family_status</th>\n",
       "      <th>family_status_id</th>\n",
       "      <th>gender</th>\n",
       "      <th>income_type</th>\n",
       "      <th>debt</th>\n",
       "      <th>total_income</th>\n",
       "      <th>purpose</th>\n",
       "    </tr>\n",
       "  </thead>\n",
       "  <tbody>\n",
       "    <tr>\n",
       "      <th>0</th>\n",
       "      <td>1</td>\n",
       "      <td>-8437.673028</td>\n",
       "      <td>42</td>\n",
       "      <td>высшее</td>\n",
       "      <td>0</td>\n",
       "      <td>женат / замужем</td>\n",
       "      <td>0</td>\n",
       "      <td>F</td>\n",
       "      <td>сотрудник</td>\n",
       "      <td>0</td>\n",
       "      <td>253875.639453</td>\n",
       "      <td>покупка жилья</td>\n",
       "    </tr>\n",
       "    <tr>\n",
       "      <th>1</th>\n",
       "      <td>1</td>\n",
       "      <td>-4024.803754</td>\n",
       "      <td>36</td>\n",
       "      <td>среднее</td>\n",
       "      <td>1</td>\n",
       "      <td>женат / замужем</td>\n",
       "      <td>0</td>\n",
       "      <td>F</td>\n",
       "      <td>сотрудник</td>\n",
       "      <td>0</td>\n",
       "      <td>112080.014102</td>\n",
       "      <td>приобретение автомобиля</td>\n",
       "    </tr>\n",
       "    <tr>\n",
       "      <th>2</th>\n",
       "      <td>0</td>\n",
       "      <td>-5623.422610</td>\n",
       "      <td>33</td>\n",
       "      <td>Среднее</td>\n",
       "      <td>1</td>\n",
       "      <td>женат / замужем</td>\n",
       "      <td>0</td>\n",
       "      <td>M</td>\n",
       "      <td>сотрудник</td>\n",
       "      <td>0</td>\n",
       "      <td>145885.952297</td>\n",
       "      <td>покупка жилья</td>\n",
       "    </tr>\n",
       "    <tr>\n",
       "      <th>3</th>\n",
       "      <td>3</td>\n",
       "      <td>-4124.747207</td>\n",
       "      <td>32</td>\n",
       "      <td>среднее</td>\n",
       "      <td>1</td>\n",
       "      <td>женат / замужем</td>\n",
       "      <td>0</td>\n",
       "      <td>M</td>\n",
       "      <td>сотрудник</td>\n",
       "      <td>0</td>\n",
       "      <td>267628.550329</td>\n",
       "      <td>дополнительное образование</td>\n",
       "    </tr>\n",
       "    <tr>\n",
       "      <th>4</th>\n",
       "      <td>0</td>\n",
       "      <td>340266.072047</td>\n",
       "      <td>53</td>\n",
       "      <td>среднее</td>\n",
       "      <td>1</td>\n",
       "      <td>гражданский брак</td>\n",
       "      <td>1</td>\n",
       "      <td>F</td>\n",
       "      <td>пенсионер</td>\n",
       "      <td>0</td>\n",
       "      <td>158616.077870</td>\n",
       "      <td>сыграть свадьбу</td>\n",
       "    </tr>\n",
       "    <tr>\n",
       "      <th>5</th>\n",
       "      <td>0</td>\n",
       "      <td>-926.185831</td>\n",
       "      <td>27</td>\n",
       "      <td>высшее</td>\n",
       "      <td>0</td>\n",
       "      <td>гражданский брак</td>\n",
       "      <td>1</td>\n",
       "      <td>M</td>\n",
       "      <td>компаньон</td>\n",
       "      <td>0</td>\n",
       "      <td>255763.565419</td>\n",
       "      <td>покупка жилья</td>\n",
       "    </tr>\n",
       "    <tr>\n",
       "      <th>6</th>\n",
       "      <td>0</td>\n",
       "      <td>-2879.202052</td>\n",
       "      <td>43</td>\n",
       "      <td>высшее</td>\n",
       "      <td>0</td>\n",
       "      <td>женат / замужем</td>\n",
       "      <td>0</td>\n",
       "      <td>F</td>\n",
       "      <td>компаньон</td>\n",
       "      <td>0</td>\n",
       "      <td>240525.971920</td>\n",
       "      <td>операции с жильем</td>\n",
       "    </tr>\n",
       "    <tr>\n",
       "      <th>7</th>\n",
       "      <td>0</td>\n",
       "      <td>-152.779569</td>\n",
       "      <td>50</td>\n",
       "      <td>СРЕДНЕЕ</td>\n",
       "      <td>1</td>\n",
       "      <td>женат / замужем</td>\n",
       "      <td>0</td>\n",
       "      <td>M</td>\n",
       "      <td>сотрудник</td>\n",
       "      <td>0</td>\n",
       "      <td>135823.934197</td>\n",
       "      <td>образование</td>\n",
       "    </tr>\n",
       "    <tr>\n",
       "      <th>8</th>\n",
       "      <td>2</td>\n",
       "      <td>-6929.865299</td>\n",
       "      <td>35</td>\n",
       "      <td>ВЫСШЕЕ</td>\n",
       "      <td>0</td>\n",
       "      <td>гражданский брак</td>\n",
       "      <td>1</td>\n",
       "      <td>F</td>\n",
       "      <td>сотрудник</td>\n",
       "      <td>0</td>\n",
       "      <td>95856.832424</td>\n",
       "      <td>на проведение свадьбы</td>\n",
       "    </tr>\n",
       "    <tr>\n",
       "      <th>9</th>\n",
       "      <td>0</td>\n",
       "      <td>-2188.756445</td>\n",
       "      <td>41</td>\n",
       "      <td>среднее</td>\n",
       "      <td>1</td>\n",
       "      <td>женат / замужем</td>\n",
       "      <td>0</td>\n",
       "      <td>M</td>\n",
       "      <td>сотрудник</td>\n",
       "      <td>0</td>\n",
       "      <td>144425.938277</td>\n",
       "      <td>покупка жилья для семьи</td>\n",
       "    </tr>\n",
       "    <tr>\n",
       "      <th>10</th>\n",
       "      <td>2</td>\n",
       "      <td>-4171.483647</td>\n",
       "      <td>36</td>\n",
       "      <td>высшее</td>\n",
       "      <td>0</td>\n",
       "      <td>женат / замужем</td>\n",
       "      <td>0</td>\n",
       "      <td>M</td>\n",
       "      <td>компаньон</td>\n",
       "      <td>0</td>\n",
       "      <td>113943.491460</td>\n",
       "      <td>покупка недвижимости</td>\n",
       "    </tr>\n",
       "    <tr>\n",
       "      <th>11</th>\n",
       "      <td>0</td>\n",
       "      <td>-792.701887</td>\n",
       "      <td>40</td>\n",
       "      <td>среднее</td>\n",
       "      <td>1</td>\n",
       "      <td>женат / замужем</td>\n",
       "      <td>0</td>\n",
       "      <td>F</td>\n",
       "      <td>сотрудник</td>\n",
       "      <td>0</td>\n",
       "      <td>77069.234271</td>\n",
       "      <td>покупка коммерческой недвижимости</td>\n",
       "    </tr>\n",
       "    <tr>\n",
       "      <th>12</th>\n",
       "      <td>0</td>\n",
       "      <td>NaN</td>\n",
       "      <td>65</td>\n",
       "      <td>среднее</td>\n",
       "      <td>1</td>\n",
       "      <td>гражданский брак</td>\n",
       "      <td>1</td>\n",
       "      <td>M</td>\n",
       "      <td>пенсионер</td>\n",
       "      <td>0</td>\n",
       "      <td>NaN</td>\n",
       "      <td>сыграть свадьбу</td>\n",
       "    </tr>\n",
       "    <tr>\n",
       "      <th>13</th>\n",
       "      <td>0</td>\n",
       "      <td>-1846.641941</td>\n",
       "      <td>54</td>\n",
       "      <td>неоконченное высшее</td>\n",
       "      <td>2</td>\n",
       "      <td>женат / замужем</td>\n",
       "      <td>0</td>\n",
       "      <td>F</td>\n",
       "      <td>сотрудник</td>\n",
       "      <td>0</td>\n",
       "      <td>130458.228857</td>\n",
       "      <td>приобретение автомобиля</td>\n",
       "    </tr>\n",
       "    <tr>\n",
       "      <th>14</th>\n",
       "      <td>0</td>\n",
       "      <td>-1844.956182</td>\n",
       "      <td>56</td>\n",
       "      <td>высшее</td>\n",
       "      <td>0</td>\n",
       "      <td>гражданский брак</td>\n",
       "      <td>1</td>\n",
       "      <td>F</td>\n",
       "      <td>компаньон</td>\n",
       "      <td>1</td>\n",
       "      <td>165127.911772</td>\n",
       "      <td>покупка жилой недвижимости</td>\n",
       "    </tr>\n",
       "    <tr>\n",
       "      <th>15</th>\n",
       "      <td>1</td>\n",
       "      <td>-972.364419</td>\n",
       "      <td>26</td>\n",
       "      <td>среднее</td>\n",
       "      <td>1</td>\n",
       "      <td>женат / замужем</td>\n",
       "      <td>0</td>\n",
       "      <td>F</td>\n",
       "      <td>сотрудник</td>\n",
       "      <td>0</td>\n",
       "      <td>116820.904450</td>\n",
       "      <td>строительство собственной недвижимости</td>\n",
       "    </tr>\n",
       "    <tr>\n",
       "      <th>16</th>\n",
       "      <td>0</td>\n",
       "      <td>-1719.934226</td>\n",
       "      <td>35</td>\n",
       "      <td>среднее</td>\n",
       "      <td>1</td>\n",
       "      <td>женат / замужем</td>\n",
       "      <td>0</td>\n",
       "      <td>F</td>\n",
       "      <td>сотрудник</td>\n",
       "      <td>0</td>\n",
       "      <td>289202.704229</td>\n",
       "      <td>недвижимость</td>\n",
       "    </tr>\n",
       "    <tr>\n",
       "      <th>17</th>\n",
       "      <td>0</td>\n",
       "      <td>-2369.999720</td>\n",
       "      <td>33</td>\n",
       "      <td>высшее</td>\n",
       "      <td>0</td>\n",
       "      <td>гражданский брак</td>\n",
       "      <td>1</td>\n",
       "      <td>M</td>\n",
       "      <td>сотрудник</td>\n",
       "      <td>0</td>\n",
       "      <td>90410.586745</td>\n",
       "      <td>строительство недвижимости</td>\n",
       "    </tr>\n",
       "    <tr>\n",
       "      <th>18</th>\n",
       "      <td>0</td>\n",
       "      <td>400281.136913</td>\n",
       "      <td>53</td>\n",
       "      <td>среднее</td>\n",
       "      <td>1</td>\n",
       "      <td>вдовец / вдова</td>\n",
       "      <td>2</td>\n",
       "      <td>F</td>\n",
       "      <td>пенсионер</td>\n",
       "      <td>0</td>\n",
       "      <td>56823.777243</td>\n",
       "      <td>на покупку подержанного автомобиля</td>\n",
       "    </tr>\n",
       "    <tr>\n",
       "      <th>19</th>\n",
       "      <td>0</td>\n",
       "      <td>-10038.818549</td>\n",
       "      <td>48</td>\n",
       "      <td>СРЕДНЕЕ</td>\n",
       "      <td>1</td>\n",
       "      <td>в разводе</td>\n",
       "      <td>3</td>\n",
       "      <td>F</td>\n",
       "      <td>сотрудник</td>\n",
       "      <td>0</td>\n",
       "      <td>242831.107982</td>\n",
       "      <td>на покупку своего автомобиля</td>\n",
       "    </tr>\n",
       "  </tbody>\n",
       "</table>\n",
       "</div>"
      ],
      "text/plain": [
       "    children  days_employed  dob_years            education  education_id  \\\n",
       "0          1   -8437.673028         42               высшее             0   \n",
       "1          1   -4024.803754         36              среднее             1   \n",
       "2          0   -5623.422610         33              Среднее             1   \n",
       "3          3   -4124.747207         32              среднее             1   \n",
       "4          0  340266.072047         53              среднее             1   \n",
       "5          0    -926.185831         27               высшее             0   \n",
       "6          0   -2879.202052         43               высшее             0   \n",
       "7          0    -152.779569         50              СРЕДНЕЕ             1   \n",
       "8          2   -6929.865299         35               ВЫСШЕЕ             0   \n",
       "9          0   -2188.756445         41              среднее             1   \n",
       "10         2   -4171.483647         36               высшее             0   \n",
       "11         0    -792.701887         40              среднее             1   \n",
       "12         0            NaN         65              среднее             1   \n",
       "13         0   -1846.641941         54  неоконченное высшее             2   \n",
       "14         0   -1844.956182         56               высшее             0   \n",
       "15         1    -972.364419         26              среднее             1   \n",
       "16         0   -1719.934226         35              среднее             1   \n",
       "17         0   -2369.999720         33               высшее             0   \n",
       "18         0  400281.136913         53              среднее             1   \n",
       "19         0  -10038.818549         48              СРЕДНЕЕ             1   \n",
       "\n",
       "       family_status  family_status_id gender income_type  debt  \\\n",
       "0    женат / замужем                 0      F   сотрудник     0   \n",
       "1    женат / замужем                 0      F   сотрудник     0   \n",
       "2    женат / замужем                 0      M   сотрудник     0   \n",
       "3    женат / замужем                 0      M   сотрудник     0   \n",
       "4   гражданский брак                 1      F   пенсионер     0   \n",
       "5   гражданский брак                 1      M   компаньон     0   \n",
       "6    женат / замужем                 0      F   компаньон     0   \n",
       "7    женат / замужем                 0      M   сотрудник     0   \n",
       "8   гражданский брак                 1      F   сотрудник     0   \n",
       "9    женат / замужем                 0      M   сотрудник     0   \n",
       "10   женат / замужем                 0      M   компаньон     0   \n",
       "11   женат / замужем                 0      F   сотрудник     0   \n",
       "12  гражданский брак                 1      M   пенсионер     0   \n",
       "13   женат / замужем                 0      F   сотрудник     0   \n",
       "14  гражданский брак                 1      F   компаньон     1   \n",
       "15   женат / замужем                 0      F   сотрудник     0   \n",
       "16   женат / замужем                 0      F   сотрудник     0   \n",
       "17  гражданский брак                 1      M   сотрудник     0   \n",
       "18    вдовец / вдова                 2      F   пенсионер     0   \n",
       "19         в разводе                 3      F   сотрудник     0   \n",
       "\n",
       "     total_income                                 purpose  \n",
       "0   253875.639453                           покупка жилья  \n",
       "1   112080.014102                 приобретение автомобиля  \n",
       "2   145885.952297                           покупка жилья  \n",
       "3   267628.550329              дополнительное образование  \n",
       "4   158616.077870                         сыграть свадьбу  \n",
       "5   255763.565419                           покупка жилья  \n",
       "6   240525.971920                       операции с жильем  \n",
       "7   135823.934197                             образование  \n",
       "8    95856.832424                   на проведение свадьбы  \n",
       "9   144425.938277                 покупка жилья для семьи  \n",
       "10  113943.491460                    покупка недвижимости  \n",
       "11   77069.234271       покупка коммерческой недвижимости  \n",
       "12            NaN                         сыграть свадьбу  \n",
       "13  130458.228857                 приобретение автомобиля  \n",
       "14  165127.911772              покупка жилой недвижимости  \n",
       "15  116820.904450  строительство собственной недвижимости  \n",
       "16  289202.704229                            недвижимость  \n",
       "17   90410.586745              строительство недвижимости  \n",
       "18   56823.777243      на покупку подержанного автомобиля  \n",
       "19  242831.107982            на покупку своего автомобиля  "
      ]
     },
     "execution_count": 2,
     "metadata": {},
     "output_type": "execute_result"
    }
   ],
   "source": [
    "data.head(20)"
   ]
  },
  {
   "cell_type": "markdown",
   "id": "0ed8f27f",
   "metadata": {
    "deletable": false,
    "id": "0ed8f27f"
   },
   "source": [
    "**Задание 3. Выведем основную информацию о датафрейме с помощью метода `info()`.**"
   ]
  },
  {
   "cell_type": "code",
   "execution_count": 3,
   "id": "ab3f863b",
   "metadata": {
    "deletable": false,
    "id": "ab3f863b",
    "outputId": "15376089-8dad-46c9-b520-c05248d43158"
   },
   "outputs": [
    {
     "name": "stdout",
     "output_type": "stream",
     "text": [
      "<class 'pandas.core.frame.DataFrame'>\n",
      "RangeIndex: 21525 entries, 0 to 21524\n",
      "Data columns (total 12 columns):\n",
      " #   Column            Non-Null Count  Dtype  \n",
      "---  ------            --------------  -----  \n",
      " 0   children          21525 non-null  int64  \n",
      " 1   days_employed     19351 non-null  float64\n",
      " 2   dob_years         21525 non-null  int64  \n",
      " 3   education         21525 non-null  object \n",
      " 4   education_id      21525 non-null  int64  \n",
      " 5   family_status     21525 non-null  object \n",
      " 6   family_status_id  21525 non-null  int64  \n",
      " 7   gender            21525 non-null  object \n",
      " 8   income_type       21525 non-null  object \n",
      " 9   debt              21525 non-null  int64  \n",
      " 10  total_income      19351 non-null  float64\n",
      " 11  purpose           21525 non-null  object \n",
      "dtypes: float64(2), int64(5), object(5)\n",
      "memory usage: 2.0+ MB\n"
     ]
    }
   ],
   "source": [
    "data.info()"
   ]
  },
  {
   "cell_type": "markdown",
   "id": "60e3e22d",
   "metadata": {
    "deletable": false,
    "editable": false,
    "id": "60e3e22d"
   },
   "source": [
    "## Предобработка данных"
   ]
  },
  {
   "cell_type": "markdown",
   "id": "03dc170c",
   "metadata": {
    "deletable": false,
    "editable": false,
    "id": "03dc170c"
   },
   "source": [
    "### Удаление пропусков"
   ]
  },
  {
   "cell_type": "markdown",
   "id": "a4f54eef",
   "metadata": {
    "deletable": false,
    "id": "a4f54eef"
   },
   "source": [
    "**Задание 4. Выведем количество пропущенных значений для каждого столбца. Используем комбинацию двух методов.**"
   ]
  },
  {
   "cell_type": "code",
   "execution_count": 4,
   "id": "2dc372b2",
   "metadata": {
    "deletable": false,
    "id": "2dc372b2",
    "outputId": "81f4d817-781c-465c-ed15-91ce4446810d"
   },
   "outputs": [
    {
     "data": {
      "text/plain": [
       "children               0\n",
       "days_employed       2174\n",
       "dob_years              0\n",
       "education              0\n",
       "education_id           0\n",
       "family_status          0\n",
       "family_status_id       0\n",
       "gender                 0\n",
       "income_type            0\n",
       "debt                   0\n",
       "total_income        2174\n",
       "purpose                0\n",
       "dtype: int64"
      ]
     },
     "execution_count": 4,
     "metadata": {},
     "output_type": "execute_result"
    }
   ],
   "source": [
    "data.isna().sum()"
   ]
  },
  {
   "cell_type": "markdown",
   "id": "14f011b1",
   "metadata": {
    "deletable": false,
    "id": "14f011b1"
   },
   "source": [
    "**Задание 5. В двух столбцах есть пропущенные значения. Один из них — `days_employed`. Пропуски в этом столбце мы обработаем на следующем этапе. Другой столбец с пропущенными значениями — `total_income` — хранит данные о доходах. На сумму дохода сильнее всего влияет тип занятости, поэтому заполнить пропуски в этом столбце нужно медианным значением по каждому типу из столбца `income_type`. Например, у человека с типом занятости `сотрудник` пропуск в столбце `total_income` заполним медианным доходом среди всех записей с тем же типом.**"
   ]
  },
  {
   "cell_type": "code",
   "execution_count": 5,
   "id": "bdabfb6e",
   "metadata": {
    "deletable": false,
    "id": "bdabfb6e"
   },
   "outputs": [],
   "source": [
    "for t in data['income_type'].unique():\n",
    "    data.loc[(data['income_type'] == t) & (data['total_income'].isna()), 'total_income'] = \\\n",
    "    data.loc[(data['income_type'] == t), 'total_income'].median()"
   ]
  },
  {
   "cell_type": "markdown",
   "id": "5be34059",
   "metadata": {
    "deletable": false,
    "editable": false,
    "id": "5be34059"
   },
   "source": [
    "### Обработка аномальных значений"
   ]
  },
  {
   "cell_type": "markdown",
   "id": "a87606cb",
   "metadata": {
    "deletable": false,
    "id": "a87606cb"
   },
   "source": [
    "**Задание 6. В данных могут встречаться артефакты (аномалии) — значения, которые не отражают действительность и появились по какой-то ошибке. таким артефактом будет отрицательное количество дней трудового стажа в столбце `days_employed`. Для реальных данных это нормально. Обработаем значения в этом столбце: заменим все отрицательные значения положительными с помощью метода `abs()`.**"
   ]
  },
  {
   "cell_type": "code",
   "execution_count": 6,
   "id": "020c46cc",
   "metadata": {
    "deletable": false,
    "id": "020c46cc"
   },
   "outputs": [],
   "source": [
    "data['days_employed'] = data['days_employed'].abs()"
   ]
  },
  {
   "cell_type": "markdown",
   "id": "45538a3a",
   "metadata": {
    "deletable": false,
    "id": "45538a3a"
   },
   "source": [
    "**Задание 7. Для каждого типа занятости выведем медианное значение трудового стажа `days_employed` в днях.**"
   ]
  },
  {
   "cell_type": "code",
   "execution_count": 7,
   "id": "cd3e6328",
   "metadata": {
    "deletable": false,
    "id": "cd3e6328",
    "outputId": "801ef80e-522b-4668-f34e-565af7432bcf"
   },
   "outputs": [
    {
     "data": {
      "text/plain": [
       "income_type\n",
       "безработный        366413.652744\n",
       "в декрете            3296.759962\n",
       "госслужащий          2689.368353\n",
       "компаньон            1547.382223\n",
       "пенсионер          365213.306266\n",
       "предприниматель       520.848083\n",
       "сотрудник            1574.202821\n",
       "студент               578.751554\n",
       "Name: days_employed, dtype: float64"
      ]
     },
     "execution_count": 7,
     "metadata": {},
     "output_type": "execute_result"
    }
   ],
   "source": [
    "data.groupby('income_type')['days_employed'].agg('median')"
   ]
  },
  {
   "cell_type": "markdown",
   "id": "90c5f058",
   "metadata": {
    "deletable": false,
    "id": "90c5f058"
   },
   "source": [
    "У двух типов (безработные и пенсионеры) получатся аномально большие значения. Исправить такие значения сложно, поэтому оставим их как есть."
   ]
  },
  {
   "cell_type": "markdown",
   "id": "9652e50d",
   "metadata": {
    "deletable": false,
    "id": "9652e50d"
   },
   "source": [
    "**Задание 8. Выведем перечень уникальных значений столбца `children`.**"
   ]
  },
  {
   "cell_type": "code",
   "execution_count": 8,
   "id": "dbb37b8e",
   "metadata": {
    "deletable": false,
    "id": "dbb37b8e",
    "outputId": "6975b15c-7f95-4697-d16d-a0c79b657b03"
   },
   "outputs": [
    {
     "data": {
      "text/plain": [
       "array([ 1,  0,  3,  2, -1,  4, 20,  5], dtype=int64)"
      ]
     },
     "execution_count": 8,
     "metadata": {},
     "output_type": "execute_result"
    }
   ],
   "source": [
    "data['children'].unique()"
   ]
  },
  {
   "cell_type": "markdown",
   "id": "2b8b0715",
   "metadata": {
    "deletable": false,
    "id": "2b8b0715"
   },
   "source": [
    "**Задание 9. В столбце `children` есть два аномальных значения. Удалим строки, в которых встречаются такие аномальные значения из датафрейма `data`.**"
   ]
  },
  {
   "cell_type": "code",
   "execution_count": 9,
   "id": "20009df8",
   "metadata": {
    "deletable": false,
    "id": "20009df8"
   },
   "outputs": [],
   "source": [
    "data = data[(data['children'] != -1) & (data['children'] != 20)]"
   ]
  },
  {
   "cell_type": "markdown",
   "id": "8c6ac9f1",
   "metadata": {
    "deletable": false,
    "id": "8c6ac9f1"
   },
   "source": [
    "**Задание 10. Ещё раз выведем перечень уникальных значений столбца `children`, чтобы убедиться, что артефакты удалены.**"
   ]
  },
  {
   "cell_type": "code",
   "execution_count": 10,
   "id": "07337b81",
   "metadata": {
    "deletable": false,
    "id": "07337b81",
    "outputId": "b2097101-d49d-44d9-901b-32a65c9463d1"
   },
   "outputs": [
    {
     "data": {
      "text/plain": [
       "array([1, 0, 3, 2, 4, 5], dtype=int64)"
      ]
     },
     "execution_count": 10,
     "metadata": {},
     "output_type": "execute_result"
    }
   ],
   "source": [
    "data['children'].unique()"
   ]
  },
  {
   "cell_type": "markdown",
   "id": "ee3f52d4",
   "metadata": {
    "deletable": false,
    "editable": false,
    "id": "ee3f52d4"
   },
   "source": [
    "### Удаление пропусков (продолжение)"
   ]
  },
  {
   "cell_type": "markdown",
   "id": "a700b0e4",
   "metadata": {
    "deletable": false,
    "id": "a700b0e4"
   },
   "source": [
    "**Задание 11. Заполним пропуски в столбце `days_employed` медианными значениями по каждого типа занятости `income_type`.**"
   ]
  },
  {
   "cell_type": "code",
   "execution_count": 11,
   "id": "61946b83",
   "metadata": {
    "deletable": false,
    "id": "61946b83"
   },
   "outputs": [],
   "source": [
    "for t in data['income_type'].unique():\n",
    "    data.loc[(data['income_type'] == t) & (data['days_employed'].isna()), 'days_employed'] = \\\n",
    "    data.loc[(data['income_type'] == t), 'days_employed'].median()"
   ]
  },
  {
   "cell_type": "markdown",
   "id": "550dcd9b",
   "metadata": {
    "deletable": false,
    "id": "550dcd9b"
   },
   "source": [
    "**Задание 12. Убедимся, что все пропуски заполнены. Проверим себя и ещё раз выведем количество пропущенных значений для каждого столбца с помощью двух методов.**"
   ]
  },
  {
   "cell_type": "code",
   "execution_count": 12,
   "id": "937c7014",
   "metadata": {
    "deletable": false,
    "id": "937c7014",
    "outputId": "8da1e4e1-358e-4e87-98c9-f261bce0a7b2"
   },
   "outputs": [
    {
     "data": {
      "text/plain": [
       "children            0\n",
       "days_employed       0\n",
       "dob_years           0\n",
       "education           0\n",
       "education_id        0\n",
       "family_status       0\n",
       "family_status_id    0\n",
       "gender              0\n",
       "income_type         0\n",
       "debt                0\n",
       "total_income        0\n",
       "purpose             0\n",
       "dtype: int64"
      ]
     },
     "execution_count": 12,
     "metadata": {},
     "output_type": "execute_result"
    }
   ],
   "source": [
    "data.isna().sum()"
   ]
  },
  {
   "cell_type": "markdown",
   "id": "d522e295",
   "metadata": {
    "deletable": false,
    "editable": false,
    "id": "d522e295"
   },
   "source": [
    "### Изменение типов данных"
   ]
  },
  {
   "cell_type": "markdown",
   "id": "c229c581",
   "metadata": {
    "deletable": false,
    "id": "c229c581"
   },
   "source": [
    "**Задание 13. Заменим вещественный тип данных в столбце `total_income` на целочисленный с помощью метода `astype()`.**"
   ]
  },
  {
   "cell_type": "code",
   "execution_count": 13,
   "id": "31036462",
   "metadata": {
    "deletable": false,
    "id": "31036462"
   },
   "outputs": [],
   "source": [
    "data['total_income'] = data['total_income'].astype(int)"
   ]
  },
  {
   "cell_type": "markdown",
   "id": "b8e3d1d9",
   "metadata": {
    "deletable": false,
    "editable": false,
    "id": "b8e3d1d9"
   },
   "source": [
    "### Обработка дубликатов"
   ]
  },
  {
   "cell_type": "markdown",
   "id": "9be53c49",
   "metadata": {
    "deletable": false,
    "id": "9be53c49"
   },
   "source": [
    "**Задание 14. Обработаем неявные дубликаты в столбце `education`. В этом столбце есть одни и те же значения, но записанные по-разному: с использованием заглавных и строчных букв. Приведем их к нижнему регистру.**"
   ]
  },
  {
   "cell_type": "code",
   "execution_count": 14,
   "id": "d89e73e1",
   "metadata": {
    "deletable": false,
    "id": "d89e73e1"
   },
   "outputs": [],
   "source": [
    "data['education'] = data['education'].str.lower()"
   ]
  },
  {
   "cell_type": "markdown",
   "id": "01d4500e",
   "metadata": {
    "deletable": false,
    "id": "01d4500e"
   },
   "source": [
    "**Задание 15. Выведем на экран количество строк-дубликатов в данных. Если такие строки присутствуют, удалим их.**"
   ]
  },
  {
   "cell_type": "code",
   "execution_count": 15,
   "id": "e10efb23",
   "metadata": {
    "deletable": false,
    "id": "e10efb23",
    "outputId": "9684deba-1934-42d1-99e1-cda61740f822"
   },
   "outputs": [
    {
     "data": {
      "text/plain": [
       "71"
      ]
     },
     "execution_count": 15,
     "metadata": {},
     "output_type": "execute_result"
    }
   ],
   "source": [
    "data.duplicated().sum()"
   ]
  },
  {
   "cell_type": "code",
   "execution_count": 16,
   "id": "df853f20",
   "metadata": {
    "deletable": false,
    "id": "df853f20"
   },
   "outputs": [],
   "source": [
    "data = data.drop_duplicates()"
   ]
  },
  {
   "cell_type": "markdown",
   "id": "627be38f",
   "metadata": {
    "deletable": false,
    "editable": false,
    "id": "627be38f"
   },
   "source": [
    "### Категоризация данных"
   ]
  },
  {
   "cell_type": "markdown",
   "id": "4684c3e0",
   "metadata": {
    "deletable": false,
    "id": "4684c3e0"
   },
   "source": [
    "**Задание 16. На основании диапазонов, указанных ниже, создадим в датафрейме `data` столбец `total_income_category` с категориями:**\n",
    "\n",
    "- 0–30000 — `'E'`;\n",
    "- 30001–50000 — `'D'`;\n",
    "- 50001–200000 — `'C'`;\n",
    "- 200001–1000000 — `'B'`;\n",
    "- 1000001 и выше — `'A'`.\n",
    "\n",
    "\n",
    "**Например, кредитополучателю с доходом 25000 назначим категорию `'E'`, а клиенту, получающему 235000, — `'B'`. Используем собственную функцию с именем `categorize_income()` и метод `apply()`.**"
   ]
  },
  {
   "cell_type": "code",
   "execution_count": 17,
   "id": "78965238",
   "metadata": {
    "deletable": false,
    "id": "78965238"
   },
   "outputs": [],
   "source": [
    "def categorize_income(income):\n",
    "    try:\n",
    "        if 0 <= income <= 30000:\n",
    "            return 'E'\n",
    "        elif 30001 <= income <= 50000:\n",
    "            return 'D'\n",
    "        elif 50001 <= income <= 200000:\n",
    "            return 'C'\n",
    "        elif 200001 <= income <= 1000000:\n",
    "            return 'B'\n",
    "        elif income >= 1000001:\n",
    "            return 'A'\n",
    "    except:\n",
    "        pass"
   ]
  },
  {
   "cell_type": "code",
   "execution_count": 18,
   "id": "0980ada1",
   "metadata": {
    "deletable": false,
    "id": "0980ada1"
   },
   "outputs": [],
   "source": [
    "data['total_income_category'] = data['total_income'].apply(categorize_income)"
   ]
  },
  {
   "cell_type": "markdown",
   "id": "9917bba0",
   "metadata": {
    "deletable": false,
    "id": "9917bba0"
   },
   "source": [
    "**Задание 17. Выведем на экран перечень уникальных целей взятия кредита из столбца `purpose`.**"
   ]
  },
  {
   "cell_type": "code",
   "execution_count": 19,
   "id": "ee07b65e",
   "metadata": {
    "deletable": false,
    "id": "ee07b65e",
    "outputId": "673c12d9-7d7e-4ae0-9812-c622c89dd244"
   },
   "outputs": [
    {
     "data": {
      "text/plain": [
       "array(['покупка жилья', 'приобретение автомобиля',\n",
       "       'дополнительное образование', 'сыграть свадьбу',\n",
       "       'операции с жильем', 'образование', 'на проведение свадьбы',\n",
       "       'покупка жилья для семьи', 'покупка недвижимости',\n",
       "       'покупка коммерческой недвижимости', 'покупка жилой недвижимости',\n",
       "       'строительство собственной недвижимости', 'недвижимость',\n",
       "       'строительство недвижимости', 'на покупку подержанного автомобиля',\n",
       "       'на покупку своего автомобиля',\n",
       "       'операции с коммерческой недвижимостью',\n",
       "       'строительство жилой недвижимости', 'жилье',\n",
       "       'операции со своей недвижимостью', 'автомобили',\n",
       "       'заняться образованием', 'сделка с подержанным автомобилем',\n",
       "       'получение образования', 'автомобиль', 'свадьба',\n",
       "       'получение дополнительного образования', 'покупка своего жилья',\n",
       "       'операции с недвижимостью', 'получение высшего образования',\n",
       "       'свой автомобиль', 'сделка с автомобилем',\n",
       "       'профильное образование', 'высшее образование',\n",
       "       'покупка жилья для сдачи', 'на покупку автомобиля', 'ремонт жилью',\n",
       "       'заняться высшим образованием'], dtype=object)"
      ]
     },
     "execution_count": 19,
     "metadata": {},
     "output_type": "execute_result"
    }
   ],
   "source": [
    "data['purpose'].unique()"
   ]
  },
  {
   "cell_type": "markdown",
   "id": "52b79d56",
   "metadata": {
    "deletable": false,
    "id": "52b79d56"
   },
   "source": [
    "**Задание 18. Создадим функцию, которая на основании данных из столбца `purpose` сформирует новый столбец `purpose_category`, в который войдут следующие категории:**\n",
    "\n",
    "- `'операции с автомобилем'`,\n",
    "- `'операции с недвижимостью'`,\n",
    "- `'проведение свадьбы'`,\n",
    "- `'получение образования'`.\n",
    "\n",
    "**Например, если в столбце `purpose` находится подстрока `'на покупку автомобиля'`, то в столбце `purpose_category` должна появиться строка `'операции с автомобилем'`.**\n",
    "\n",
    "**Испольуем собственную функцию с именем `categorize_purpose()` и метод `apply()`. Изучим данные в столбце `purpose` и определим, какие подстроки помогут вам правильно определить категорию.**"
   ]
  },
  {
   "cell_type": "code",
   "execution_count": 20,
   "id": "be41da5d",
   "metadata": {
    "deletable": false,
    "id": "be41da5d"
   },
   "outputs": [],
   "source": [
    "def categorize_purpose(row):\n",
    "    try:\n",
    "        if 'автом' in row:\n",
    "            return 'операции с автомобилем'\n",
    "        elif 'жил' in row or 'недвиж' in row:\n",
    "            return 'операции с недвижимостью'\n",
    "        elif 'свад' in row:\n",
    "            return 'проведение свадьбы'\n",
    "        elif 'образов' in row:\n",
    "            return 'получение образования'\n",
    "    except:\n",
    "        return 'нет категории'"
   ]
  },
  {
   "cell_type": "code",
   "execution_count": 21,
   "id": "94c4a19a",
   "metadata": {
    "deletable": false,
    "id": "94c4a19a"
   },
   "outputs": [],
   "source": [
    "data['purpose_category'] = data['purpose'].apply(categorize_purpose)\n"
   ]
  },
  {
   "cell_type": "markdown",
   "id": "3d596c34",
   "metadata": {
    "deletable": false,
    "id": "3d596c34"
   },
   "source": [
    "### Шаг 3. Исследуем данные и ответим на вопросы"
   ]
  },
  {
   "cell_type": "markdown",
   "id": "648db036",
   "metadata": {
    "deletable": false,
    "id": "648db036"
   },
   "source": [
    "#### 3.1 Есть ли зависимость между количеством детей и возвратом кредита в срок?"
   ]
  },
  {
   "cell_type": "code",
   "execution_count": 22,
   "id": "7fcff25e",
   "metadata": {
    "deletable": false,
    "id": "7fcff25e",
    "scrolled": true
   },
   "outputs": [
    {
     "data": {
      "text/html": [
       "<div>\n",
       "<style scoped>\n",
       "    .dataframe tbody tr th:only-of-type {\n",
       "        vertical-align: middle;\n",
       "    }\n",
       "\n",
       "    .dataframe tbody tr th {\n",
       "        vertical-align: top;\n",
       "    }\n",
       "\n",
       "    .dataframe thead th {\n",
       "        text-align: right;\n",
       "    }\n",
       "</style>\n",
       "<table border=\"1\" class=\"dataframe\">\n",
       "  <thead>\n",
       "    <tr style=\"text-align: right;\">\n",
       "      <th></th>\n",
       "      <th>debt</th>\n",
       "    </tr>\n",
       "    <tr>\n",
       "      <th>children</th>\n",
       "      <th></th>\n",
       "    </tr>\n",
       "  </thead>\n",
       "  <tbody>\n",
       "    <tr>\n",
       "      <th>5</th>\n",
       "      <td>0.00%</td>\n",
       "    </tr>\n",
       "    <tr>\n",
       "      <th>0</th>\n",
       "      <td>7.50%</td>\n",
       "    </tr>\n",
       "    <tr>\n",
       "      <th>3</th>\n",
       "      <td>8.20%</td>\n",
       "    </tr>\n",
       "    <tr>\n",
       "      <th>1</th>\n",
       "      <td>9.20%</td>\n",
       "    </tr>\n",
       "    <tr>\n",
       "      <th>2</th>\n",
       "      <td>9.50%</td>\n",
       "    </tr>\n",
       "    <tr>\n",
       "      <th>4</th>\n",
       "      <td>9.80%</td>\n",
       "    </tr>\n",
       "  </tbody>\n",
       "</table>\n",
       "</div>"
      ],
      "text/plain": [
       "           debt\n",
       "children       \n",
       "5         0.00%\n",
       "0         7.50%\n",
       "3         8.20%\n",
       "1         9.20%\n",
       "2         9.50%\n",
       "4         9.80%"
      ]
     },
     "execution_count": 22,
     "metadata": {},
     "output_type": "execute_result"
    }
   ],
   "source": [
    "\n",
    "\n",
    "\n",
    "data_pivot = data.pivot_table(index = ['children'], values = 'debt').round(3)\n",
    "data_pivot=data_pivot.sort_values(by='debt',ascending=True)\n",
    "data_pivot.loc[:,'debt']=data_pivot['debt'].map('{:.2%}'.format)\n",
    "\n",
    "\n",
    "data_pivot.head(6)\n"
   ]
  },
  {
   "cell_type": "markdown",
   "id": "1f72de77",
   "metadata": {},
   "source": [
    "**3.1.1 Посмотрим размеры групп столбца \"children\"**"
   ]
  },
  {
   "cell_type": "code",
   "execution_count": 23,
   "id": "06090a34",
   "metadata": {},
   "outputs": [
    {
     "data": {
      "text/plain": [
       "children\n",
       "0    14091\n",
       "1     4808\n",
       "2     2052\n",
       "3      330\n",
       "4       41\n",
       "5        9\n",
       "Name: children, dtype: int64"
      ]
     },
     "execution_count": 23,
     "metadata": {},
     "output_type": "execute_result"
    }
   ],
   "source": [
    "data.groupby('children')['children'].count()"
   ]
  },
  {
   "cell_type": "markdown",
   "id": "2eb9088e",
   "metadata": {
    "deletable": false,
    "id": "2eb9088e"
   },
   "source": [
    " # Вывод.\n",
    "\n",
    "**Бездетные, исходя из данных таблицы, более ответственно подходят к своевременному погашению кредита. Клиенты с 1 и 2-мя и 4-мя детьми реже платят в срок.Данные по клиентам имеющим 5 детей не однозначны, так как их выборка очень мала,их всего 9 человек. Клиенты с 3-мя детьми чаще платят в срок чем другие, имеющие детей клиенты.**"
   ]
  },
  {
   "cell_type": "markdown",
   "id": "74c9b3a7",
   "metadata": {
    "deletable": false,
    "editable": false,
    "id": "74c9b3a7"
   },
   "source": [
    "#### 3.2 Есть ли зависимость между семейным положением и возвратом кредита в срок?"
   ]
  },
  {
   "cell_type": "code",
   "execution_count": 24,
   "id": "8098ab3b",
   "metadata": {
    "deletable": false,
    "id": "8098ab3b"
   },
   "outputs": [
    {
     "data": {
      "text/html": [
       "<div>\n",
       "<style scoped>\n",
       "    .dataframe tbody tr th:only-of-type {\n",
       "        vertical-align: middle;\n",
       "    }\n",
       "\n",
       "    .dataframe tbody tr th {\n",
       "        vertical-align: top;\n",
       "    }\n",
       "\n",
       "    .dataframe thead th {\n",
       "        text-align: right;\n",
       "    }\n",
       "</style>\n",
       "<table border=\"1\" class=\"dataframe\">\n",
       "  <thead>\n",
       "    <tr style=\"text-align: right;\">\n",
       "      <th></th>\n",
       "      <th>debt</th>\n",
       "    </tr>\n",
       "    <tr>\n",
       "      <th>family_status</th>\n",
       "      <th></th>\n",
       "    </tr>\n",
       "  </thead>\n",
       "  <tbody>\n",
       "    <tr>\n",
       "      <th>вдовец / вдова</th>\n",
       "      <td>6.60%</td>\n",
       "    </tr>\n",
       "    <tr>\n",
       "      <th>в разводе</th>\n",
       "      <td>7.10%</td>\n",
       "    </tr>\n",
       "    <tr>\n",
       "      <th>женат / замужем</th>\n",
       "      <td>7.60%</td>\n",
       "    </tr>\n",
       "    <tr>\n",
       "      <th>гражданский брак</th>\n",
       "      <td>9.30%</td>\n",
       "    </tr>\n",
       "    <tr>\n",
       "      <th>Не женат / не замужем</th>\n",
       "      <td>9.80%</td>\n",
       "    </tr>\n",
       "  </tbody>\n",
       "</table>\n",
       "</div>"
      ],
      "text/plain": [
       "                        debt\n",
       "family_status               \n",
       "вдовец / вдова         6.60%\n",
       "в разводе              7.10%\n",
       "женат / замужем        7.60%\n",
       "гражданский брак       9.30%\n",
       "Не женат / не замужем  9.80%"
      ]
     },
     "execution_count": 24,
     "metadata": {},
     "output_type": "execute_result"
    }
   ],
   "source": [
    "               \n",
    "\n",
    "data_pivot = data.pivot_table(index = ['family_status'], values = 'debt').round(3)\n",
    "data_pivot=data_pivot.sort_values(by='debt',ascending=True)\n",
    "data_pivot.loc[:,'debt']=data_pivot['debt'].map('{:.2%}'.format)\n",
    "data_pivot.head(6)                          \n"
   ]
  },
  {
   "cell_type": "markdown",
   "id": "c389ca63",
   "metadata": {
    "deletable": false,
    "id": "c389ca63"
   },
   "source": [
    "# Вывод.\n",
    "\n",
    "**Если клиент  состоял когда либо в браке и на данный момент разведен или вдовствует,то вероятнось возврата кредита в срок выше на 0.5-3.2 п.п.**\n",
    "\n"
   ]
  },
  {
   "cell_type": "markdown",
   "id": "9529de68",
   "metadata": {
    "deletable": false,
    "editable": false,
    "id": "9529de68"
   },
   "source": [
    "#### 3.3 Есть ли зависимость между уровнем дохода и возвратом кредита в срок?"
   ]
  },
  {
   "cell_type": "code",
   "execution_count": 25,
   "id": "8787f44a",
   "metadata": {
    "deletable": false,
    "id": "8787f44a"
   },
   "outputs": [
    {
     "data": {
      "text/html": [
       "<div>\n",
       "<style scoped>\n",
       "    .dataframe tbody tr th:only-of-type {\n",
       "        vertical-align: middle;\n",
       "    }\n",
       "\n",
       "    .dataframe tbody tr th {\n",
       "        vertical-align: top;\n",
       "    }\n",
       "\n",
       "    .dataframe thead th {\n",
       "        text-align: right;\n",
       "    }\n",
       "</style>\n",
       "<table border=\"1\" class=\"dataframe\">\n",
       "  <thead>\n",
       "    <tr style=\"text-align: right;\">\n",
       "      <th></th>\n",
       "      <th>debt</th>\n",
       "    </tr>\n",
       "    <tr>\n",
       "      <th>total_income_category</th>\n",
       "      <th></th>\n",
       "    </tr>\n",
       "  </thead>\n",
       "  <tbody>\n",
       "    <tr>\n",
       "      <th>D</th>\n",
       "      <td>6.00%</td>\n",
       "    </tr>\n",
       "    <tr>\n",
       "      <th>B</th>\n",
       "      <td>7.10%</td>\n",
       "    </tr>\n",
       "    <tr>\n",
       "      <th>A</th>\n",
       "      <td>8.00%</td>\n",
       "    </tr>\n",
       "    <tr>\n",
       "      <th>C</th>\n",
       "      <td>8.50%</td>\n",
       "    </tr>\n",
       "    <tr>\n",
       "      <th>E</th>\n",
       "      <td>9.10%</td>\n",
       "    </tr>\n",
       "  </tbody>\n",
       "</table>\n",
       "</div>"
      ],
      "text/plain": [
       "                        debt\n",
       "total_income_category       \n",
       "D                      6.00%\n",
       "B                      7.10%\n",
       "A                      8.00%\n",
       "C                      8.50%\n",
       "E                      9.10%"
      ]
     },
     "execution_count": 25,
     "metadata": {},
     "output_type": "execute_result"
    }
   ],
   "source": [
    "data_pivot = data.pivot_table(index = ['total_income_category'], values = 'debt').round(3)\n",
    "data_pivot=data_pivot.sort_values(by='debt',ascending=True)\n",
    "data_pivot.loc[:,'debt']=data_pivot['debt'].map('{:.2%}'.format)\n",
    "data_pivot.head(6)         # Ваш код будет здесь. Вы можете создавать новые ячейки."
   ]
  },
  {
   "cell_type": "markdown",
   "id": "2475d80b",
   "metadata": {},
   "source": [
    "**3.3.1 Определим количество клиентов в каждой группе столбца \"total_income_category\".**"
   ]
  },
  {
   "cell_type": "code",
   "execution_count": 26,
   "id": "0f773292",
   "metadata": {},
   "outputs": [
    {
     "data": {
      "text/plain": [
       "total_income_category\n",
       "A       25\n",
       "B     5014\n",
       "C    15921\n",
       "D      349\n",
       "E       22\n",
       "Name: total_income_category, dtype: int64"
      ]
     },
     "execution_count": 26,
     "metadata": {},
     "output_type": "execute_result"
    }
   ],
   "source": [
    "\n",
    "data.groupby('total_income_category')['total_income_category'].count()"
   ]
  },
  {
   "cell_type": "markdown",
   "id": "6dd14b57",
   "metadata": {
    "deletable": false,
    "id": "6dd14b57"
   },
   "source": [
    "# Вывод.\n",
    "**Группа \"Е\" - клиенты с доходом до 30000 рублей (категория Е)  самая малочисленная (22 человека), так же как и группа с \"А\"- клиенты с доходом 1000001 и выше(25 человек). Скорее всего это связано с тем, что клиентов группы \"Е\" банк предпочитает не кредитовать,так-как их дохода едва хватает на покрытие базовых потребностей. А группа клиентов \"А\"сама по себе не может быть многочисленной из-за экономичкских условий. Поэтому эти две группы не будем учитывать в анализе. Самыми же ответственными плательщиками из оставшихся трех групп являются клиенты с доходом 30001-50000 рублей(категория D), с 6.00% невозврата по кредитам.Клиенты с более высокими доходами категории \"В\"(200001-1000000) рублей имеют 7.10 % невозврата и самые ненадежные заемщики из рассматриваемых групп - категория \"С\"50001-200000)рублей с 8.50% невозврата.**\n"
   ]
  },
  {
   "cell_type": "markdown",
   "id": "1dcc9b12",
   "metadata": {
    "deletable": false,
    "editable": false,
    "id": "1dcc9b12"
   },
   "source": [
    "#### 3.4 Как разные цели кредита влияют на его возврат в срок?"
   ]
  },
  {
   "cell_type": "code",
   "execution_count": 27,
   "id": "c602bc8b",
   "metadata": {
    "deletable": false,
    "id": "c602bc8b"
   },
   "outputs": [
    {
     "data": {
      "text/html": [
       "<div>\n",
       "<style scoped>\n",
       "    .dataframe tbody tr th:only-of-type {\n",
       "        vertical-align: middle;\n",
       "    }\n",
       "\n",
       "    .dataframe tbody tr th {\n",
       "        vertical-align: top;\n",
       "    }\n",
       "\n",
       "    .dataframe thead th {\n",
       "        text-align: right;\n",
       "    }\n",
       "</style>\n",
       "<table border=\"1\" class=\"dataframe\">\n",
       "  <thead>\n",
       "    <tr style=\"text-align: right;\">\n",
       "      <th></th>\n",
       "      <th>debt</th>\n",
       "    </tr>\n",
       "    <tr>\n",
       "      <th>purpose_category</th>\n",
       "      <th></th>\n",
       "    </tr>\n",
       "  </thead>\n",
       "  <tbody>\n",
       "    <tr>\n",
       "      <th>операции с недвижимостью</th>\n",
       "      <td>7.30%</td>\n",
       "    </tr>\n",
       "    <tr>\n",
       "      <th>проведение свадьбы</th>\n",
       "      <td>7.90%</td>\n",
       "    </tr>\n",
       "    <tr>\n",
       "      <th>операции с автомобилем</th>\n",
       "      <td>9.30%</td>\n",
       "    </tr>\n",
       "    <tr>\n",
       "      <th>получение образования</th>\n",
       "      <td>9.30%</td>\n",
       "    </tr>\n",
       "  </tbody>\n",
       "</table>\n",
       "</div>"
      ],
      "text/plain": [
       "                           debt\n",
       "purpose_category               \n",
       "операции с недвижимостью  7.30%\n",
       "проведение свадьбы        7.90%\n",
       "операции с автомобилем    9.30%\n",
       "получение образования     9.30%"
      ]
     },
     "execution_count": 27,
     "metadata": {},
     "output_type": "execute_result"
    }
   ],
   "source": [
    "data_pivot = data.pivot_table(index = ['purpose_category'], values = 'debt').round(3)\n",
    "data_pivot=data_pivot.sort_values(by='debt',ascending=True)\n",
    "data_pivot.loc[:,'debt']=data_pivot['debt'].map('{:.2%}'.format)\n",
    "data_pivot.head(6)  # Ваш код будет здесь. Вы можете создавать новые ячейки."
   ]
  },
  {
   "cell_type": "markdown",
   "id": "cf05ed63",
   "metadata": {
    "deletable": false,
    "id": "cf05ed63"
   },
   "source": [
    "# Вывод.\n",
    "**Кредиты, взятые на операции с недвижимостью и проведение свадьбы имеют более низкий процент невозврата в срок(7.30% и 7.90%) чем кредиты взятые на операции с автомобилем и получение образования(9.30% и 9.30%)что соответстввует разнице на 2 п.п. и 1.4 п.п.**"
   ]
  },
  {
   "cell_type": "markdown",
   "id": "46c1f10b",
   "metadata": {
    "deletable": false,
    "id": "46c1f10b"
   },
   "source": [
    "#### 3.5 Приведите возможные причины появления пропусков в исходных данных."
   ]
  },
  {
   "cell_type": "markdown",
   "id": "3697d2a9",
   "metadata": {
    "deletable": false,
    "id": "3697d2a9"
   },
   "source": [
    "\n",
    "**В двух столбцах есть пропущенные значения. Один из них — days_employed - общий трудовой стаж. Другой столбец с пропущенными значениями — total_income — хранит данные о доходах. Возможно пропуски в данных имеют технический характер, так как имеют одинаковый показаель-2174. На сумму дохода сильнее всего влияет тип занятости, поэтому мы заполнили пропуски медианным значением по каждому типу из столбца income_type(тип занятости).**"
   ]
  },
  {
   "cell_type": "markdown",
   "id": "3137d257",
   "metadata": {
    "deletable": false,
    "id": "3137d257"
   },
   "source": [
    "#### 3.6 Объясните, почему заполнить пропуски медианным значением — лучшее решение для количественных переменных."
   ]
  },
  {
   "cell_type": "markdown",
   "id": "cf40012a",
   "metadata": {
    "deletable": false,
    "id": "cf40012a"
   },
   "source": [
    "**Пропуски в количественных переменных лучше всего заполнять медианным значением, так как медиана определяет центр распределения, т.е. область, в которой его значения наиболее вероятны.Наборы данных могут имеют выбросы в последовательности, которые могут привести к асимметрии среднего значения. Медиана последовательности на самом деле может быть меньше затронута этими выбросами по сравнению со средним.**\n",
    "\n"
   ]
  },
  {
   "cell_type": "markdown",
   "id": "57bc304e",
   "metadata": {
    "deletable": false,
    "editable": false,
    "id": "57bc304e"
   },
   "source": [
    "### Шаг 4: общий вывод."
   ]
  },
  {
   "cell_type": "markdown",
   "id": "1ab75d1c",
   "metadata": {
    "deletable": false,
    "id": "1ab75d1c"
   },
   "source": [
    "Напишем общий вывод."
   ]
  },
  {
   "cell_type": "markdown",
   "id": "27c5470d",
   "metadata": {},
   "source": [
    " # Общий вывод.\n",
    " \n",
    " \n",
    " **Идеальным клиентом считается: \n",
    " Заемщик (мужчина или женщины) взявший кредит на операцию с недвижимостью(7.3% невозврата в срок),а самые безответственные заемщики - берущие кредит на операции с автомобилем и образование(9.30% невозврата), не имеющий детей клиенты имеют 7.50% невозврата кредитов,тогда как у  имеющих детей заемщиков этот процент выше и варьируется от 8.20%-9.80% ,клиенты с доходом от 30001-50000 рублей более ответственны, их процент невозврата-6.0%,самые ненадежные- категория 'С' с доходом 50001-200000 рублей(8.50%). Находящийся в разводе или вдовствующий заемщик,согласно исследованию,имеет самый низкий процент невозврата по кредиту-6.60%, тогда как клиенты которые никогда не состояли в браке- 9.80%. На мой взгляд, это связано с тем , что одинокому человеку проще контролировать свой бюджет.Отсутствие супруга и детей значительно уменьшают вероятность всякого рода непредвиденных расходов, что в свою очередь приводит к постоянству выплат по кредиту, в то же время семья в прошлом сделала его более ответственным, а те, кто никогда не состоял в браке, видимо, менее ответственны в планировании своего бюджета потому их процент невыплат на 3.20 п.п. выше ,чем у тех ,кто когда либо был в браке.**\n"
   ]
  }
 ],
 "metadata": {
  "ExecuteTimeLog": [
   {
    "duration": 44,
    "start_time": "2023-01-23T06:18:36.414Z"
   },
   {
    "duration": 465,
    "start_time": "2023-01-23T06:18:46.351Z"
   },
   {
    "duration": 23,
    "start_time": "2023-01-23T06:18:46.820Z"
   },
   {
    "duration": 14,
    "start_time": "2023-01-23T06:18:46.844Z"
   },
   {
    "duration": 9,
    "start_time": "2023-01-23T06:18:46.860Z"
   },
   {
    "duration": 40,
    "start_time": "2023-01-23T06:18:46.871Z"
   },
   {
    "duration": 3,
    "start_time": "2023-01-23T06:18:46.913Z"
   },
   {
    "duration": 16,
    "start_time": "2023-01-23T06:18:46.917Z"
   },
   {
    "duration": 7,
    "start_time": "2023-01-23T06:18:46.935Z"
   },
   {
    "duration": 10,
    "start_time": "2023-01-23T06:18:46.944Z"
   },
   {
    "duration": 11,
    "start_time": "2023-01-23T06:18:46.956Z"
   },
   {
    "duration": 44,
    "start_time": "2023-01-23T06:18:46.968Z"
   },
   {
    "duration": 9,
    "start_time": "2023-01-23T06:18:47.013Z"
   },
   {
    "duration": 5,
    "start_time": "2023-01-23T06:18:47.024Z"
   },
   {
    "duration": 13,
    "start_time": "2023-01-23T06:18:47.030Z"
   },
   {
    "duration": 19,
    "start_time": "2023-01-23T06:18:47.045Z"
   },
   {
    "duration": 40,
    "start_time": "2023-01-23T06:18:47.066Z"
   },
   {
    "duration": 3,
    "start_time": "2023-01-23T06:18:47.108Z"
   },
   {
    "duration": 13,
    "start_time": "2023-01-23T06:18:47.113Z"
   },
   {
    "duration": 12,
    "start_time": "2023-01-23T06:18:47.128Z"
   },
   {
    "duration": 4,
    "start_time": "2023-01-23T06:18:47.142Z"
   },
   {
    "duration": 15,
    "start_time": "2023-01-23T06:18:47.147Z"
   },
   {
    "duration": 6,
    "start_time": "2023-01-23T06:18:47.163Z"
   },
   {
    "duration": 5,
    "start_time": "2023-01-23T06:18:47.170Z"
   },
   {
    "duration": 28,
    "start_time": "2023-01-23T06:18:47.176Z"
   },
   {
    "duration": 10,
    "start_time": "2023-01-23T06:18:47.206Z"
   },
   {
    "duration": 13,
    "start_time": "2023-01-23T06:18:56.414Z"
   },
   {
    "duration": 10,
    "start_time": "2023-01-23T06:19:48.525Z"
   },
   {
    "duration": 8,
    "start_time": "2023-01-23T06:20:08.081Z"
   },
   {
    "duration": 66,
    "start_time": "2023-01-23T06:26:09.228Z"
   },
   {
    "duration": 7,
    "start_time": "2023-01-23T06:27:32.458Z"
   },
   {
    "duration": 7,
    "start_time": "2023-01-23T06:29:56.489Z"
   },
   {
    "duration": 10,
    "start_time": "2023-01-23T06:31:14.328Z"
   },
   {
    "duration": 18,
    "start_time": "2023-01-23T06:32:22.389Z"
   },
   {
    "duration": 16,
    "start_time": "2023-01-23T06:40:44.266Z"
   },
   {
    "duration": 9,
    "start_time": "2023-01-23T07:14:21.679Z"
   },
   {
    "duration": 9,
    "start_time": "2023-01-23T07:14:31.589Z"
   },
   {
    "duration": 16,
    "start_time": "2023-01-23T07:15:01.208Z"
   },
   {
    "duration": 15,
    "start_time": "2023-01-23T07:18:29.489Z"
   },
   {
    "duration": 21,
    "start_time": "2023-01-23T07:18:56.287Z"
   },
   {
    "duration": 18,
    "start_time": "2023-01-23T07:19:46.042Z"
   },
   {
    "duration": 11,
    "start_time": "2023-01-23T07:20:45.000Z"
   },
   {
    "duration": 8,
    "start_time": "2023-01-23T07:21:39.799Z"
   },
   {
    "duration": 9,
    "start_time": "2023-01-23T07:22:10.361Z"
   },
   {
    "duration": 8,
    "start_time": "2023-01-23T07:22:36.657Z"
   },
   {
    "duration": 476,
    "start_time": "2023-01-23T07:22:45.172Z"
   },
   {
    "duration": 21,
    "start_time": "2023-01-23T07:22:45.650Z"
   },
   {
    "duration": 19,
    "start_time": "2023-01-23T07:22:45.672Z"
   },
   {
    "duration": 18,
    "start_time": "2023-01-23T07:22:45.693Z"
   },
   {
    "duration": 38,
    "start_time": "2023-01-23T07:22:45.712Z"
   },
   {
    "duration": 3,
    "start_time": "2023-01-23T07:22:45.752Z"
   },
   {
    "duration": 12,
    "start_time": "2023-01-23T07:22:45.756Z"
   },
   {
    "duration": 7,
    "start_time": "2023-01-23T07:22:45.770Z"
   },
   {
    "duration": 11,
    "start_time": "2023-01-23T07:22:45.779Z"
   },
   {
    "duration": 5,
    "start_time": "2023-01-23T07:22:45.804Z"
   },
   {
    "duration": 33,
    "start_time": "2023-01-23T07:22:45.811Z"
   },
   {
    "duration": 9,
    "start_time": "2023-01-23T07:22:45.846Z"
   },
   {
    "duration": 5,
    "start_time": "2023-01-23T07:22:45.857Z"
   },
   {
    "duration": 13,
    "start_time": "2023-01-23T07:22:45.863Z"
   },
   {
    "duration": 20,
    "start_time": "2023-01-23T07:22:45.902Z"
   },
   {
    "duration": 18,
    "start_time": "2023-01-23T07:22:45.923Z"
   },
   {
    "duration": 4,
    "start_time": "2023-01-23T07:22:45.942Z"
   },
   {
    "duration": 15,
    "start_time": "2023-01-23T07:22:45.947Z"
   },
   {
    "duration": 11,
    "start_time": "2023-01-23T07:22:45.964Z"
   },
   {
    "duration": 3,
    "start_time": "2023-01-23T07:22:45.977Z"
   },
   {
    "duration": 27,
    "start_time": "2023-01-23T07:22:45.981Z"
   },
   {
    "duration": 14,
    "start_time": "2023-01-23T07:22:46.009Z"
   },
   {
    "duration": 117,
    "start_time": "2023-01-23T07:22:46.025Z"
   },
   {
    "duration": 6,
    "start_time": "2023-01-23T07:22:46.143Z"
   },
   {
    "duration": 14,
    "start_time": "2023-01-23T07:22:46.151Z"
   },
   {
    "duration": 62,
    "start_time": "2023-01-23T07:44:41.374Z"
   },
   {
    "duration": 9,
    "start_time": "2023-01-23T07:46:17.027Z"
   },
   {
    "duration": 10,
    "start_time": "2023-01-23T07:48:09.709Z"
   },
   {
    "duration": 9,
    "start_time": "2023-01-23T07:49:21.929Z"
   },
   {
    "duration": 12,
    "start_time": "2023-01-23T07:54:00.453Z"
   },
   {
    "duration": 14,
    "start_time": "2023-01-23T07:54:20.227Z"
   },
   {
    "duration": 11,
    "start_time": "2023-01-23T07:55:46.473Z"
   },
   {
    "duration": 10,
    "start_time": "2023-01-23T08:08:44.990Z"
   },
   {
    "duration": 6,
    "start_time": "2023-01-23T08:10:33.874Z"
   },
   {
    "duration": 14,
    "start_time": "2023-01-23T08:12:16.977Z"
   },
   {
    "duration": 13,
    "start_time": "2023-01-23T08:13:36.465Z"
   },
   {
    "duration": 10,
    "start_time": "2023-01-23T08:15:43.681Z"
   },
   {
    "duration": 8,
    "start_time": "2023-01-23T08:16:05.680Z"
   },
   {
    "duration": 8,
    "start_time": "2023-01-23T08:20:12.921Z"
   },
   {
    "duration": 18,
    "start_time": "2023-01-23T08:20:42.511Z"
   },
   {
    "duration": 17,
    "start_time": "2023-01-23T08:24:19.431Z"
   },
   {
    "duration": 17,
    "start_time": "2023-01-23T08:24:33.389Z"
   },
   {
    "duration": 21,
    "start_time": "2023-01-23T08:28:26.756Z"
   },
   {
    "duration": 17,
    "start_time": "2023-01-23T08:30:07.560Z"
   },
   {
    "duration": 18,
    "start_time": "2023-01-23T08:32:42.756Z"
   },
   {
    "duration": 20,
    "start_time": "2023-01-23T08:33:04.275Z"
   },
   {
    "duration": 44,
    "start_time": "2023-01-23T08:39:02.757Z"
   },
   {
    "duration": 49,
    "start_time": "2023-01-23T08:39:19.463Z"
   },
   {
    "duration": 54,
    "start_time": "2023-01-23T08:39:37.567Z"
   },
   {
    "duration": 51,
    "start_time": "2023-01-23T08:39:44.307Z"
   },
   {
    "duration": 73,
    "start_time": "2023-01-23T08:40:05.168Z"
   },
   {
    "duration": 15,
    "start_time": "2023-01-23T08:40:42.166Z"
   },
   {
    "duration": 19,
    "start_time": "2023-01-23T08:41:18.539Z"
   },
   {
    "duration": 17,
    "start_time": "2023-01-23T08:42:23.598Z"
   },
   {
    "duration": 18,
    "start_time": "2023-01-23T08:42:42.174Z"
   },
   {
    "duration": 17,
    "start_time": "2023-01-23T08:42:52.713Z"
   },
   {
    "duration": 43,
    "start_time": "2023-01-23T08:54:33.719Z"
   },
   {
    "duration": 58,
    "start_time": "2023-01-23T08:56:18.391Z"
   },
   {
    "duration": 4,
    "start_time": "2023-01-23T08:57:52.659Z"
   },
   {
    "duration": 29,
    "start_time": "2023-01-23T08:58:02.619Z"
   },
   {
    "duration": 19,
    "start_time": "2023-01-23T09:41:32.317Z"
   },
   {
    "duration": 29,
    "start_time": "2023-01-23T09:42:03.753Z"
   },
   {
    "duration": 25,
    "start_time": "2023-01-23T10:02:45.965Z"
   },
   {
    "duration": 26,
    "start_time": "2023-01-23T10:06:05.004Z"
   },
   {
    "duration": 30,
    "start_time": "2023-01-23T10:06:45.842Z"
   },
   {
    "duration": 26,
    "start_time": "2023-01-23T10:13:27.641Z"
   },
   {
    "duration": 30,
    "start_time": "2023-01-23T10:17:37.640Z"
   },
   {
    "duration": 17,
    "start_time": "2023-01-23T10:31:46.005Z"
   },
   {
    "duration": 15,
    "start_time": "2023-01-23T10:32:11.732Z"
   },
   {
    "duration": 15,
    "start_time": "2023-01-23T10:33:58.929Z"
   },
   {
    "duration": 16,
    "start_time": "2023-01-23T10:34:39.915Z"
   },
   {
    "duration": 18,
    "start_time": "2023-01-23T10:36:08.882Z"
   },
   {
    "duration": 24,
    "start_time": "2023-01-23T10:44:30.954Z"
   },
   {
    "duration": 21,
    "start_time": "2023-01-23T10:44:55.665Z"
   },
   {
    "duration": 24,
    "start_time": "2023-01-23T10:49:23.593Z"
   },
   {
    "duration": 56,
    "start_time": "2023-01-23T10:50:07.977Z"
   },
   {
    "duration": 51,
    "start_time": "2023-01-23T10:50:17.765Z"
   },
   {
    "duration": 60,
    "start_time": "2023-01-23T10:51:28.217Z"
   },
   {
    "duration": 25,
    "start_time": "2023-01-23T10:53:02.665Z"
   },
   {
    "duration": 720,
    "start_time": "2023-01-23T10:56:49.308Z"
   },
   {
    "duration": 19,
    "start_time": "2023-01-23T11:02:09.620Z"
   },
   {
    "duration": 22,
    "start_time": "2023-01-23T11:03:28.263Z"
   },
   {
    "duration": 20,
    "start_time": "2023-01-23T11:03:51.339Z"
   },
   {
    "duration": 18,
    "start_time": "2023-01-23T11:05:10.868Z"
   },
   {
    "duration": 20,
    "start_time": "2023-01-23T11:05:27.412Z"
   },
   {
    "duration": 19,
    "start_time": "2023-01-23T11:18:33.884Z"
   },
   {
    "duration": 19,
    "start_time": "2023-01-23T11:52:18.273Z"
   },
   {
    "duration": 507,
    "start_time": "2023-01-24T05:49:59.712Z"
   },
   {
    "duration": 22,
    "start_time": "2023-01-24T05:50:00.222Z"
   },
   {
    "duration": 31,
    "start_time": "2023-01-24T05:50:00.246Z"
   },
   {
    "duration": 48,
    "start_time": "2023-01-24T05:50:00.279Z"
   },
   {
    "duration": 85,
    "start_time": "2023-01-24T05:50:00.329Z"
   },
   {
    "duration": 57,
    "start_time": "2023-01-24T05:50:00.416Z"
   },
   {
    "duration": 41,
    "start_time": "2023-01-24T05:50:00.475Z"
   },
   {
    "duration": 58,
    "start_time": "2023-01-24T05:50:00.517Z"
   },
   {
    "duration": 54,
    "start_time": "2023-01-24T05:50:00.577Z"
   },
   {
    "duration": 67,
    "start_time": "2023-01-24T05:50:00.634Z"
   },
   {
    "duration": 70,
    "start_time": "2023-01-24T05:50:00.702Z"
   },
   {
    "duration": 39,
    "start_time": "2023-01-24T05:50:00.773Z"
   },
   {
    "duration": 39,
    "start_time": "2023-01-24T05:50:00.814Z"
   },
   {
    "duration": 27,
    "start_time": "2023-01-24T05:50:00.855Z"
   },
   {
    "duration": 37,
    "start_time": "2023-01-24T05:50:00.883Z"
   },
   {
    "duration": 24,
    "start_time": "2023-01-24T05:50:00.921Z"
   },
   {
    "duration": 20,
    "start_time": "2023-01-24T05:50:00.946Z"
   },
   {
    "duration": 44,
    "start_time": "2023-01-24T05:50:00.968Z"
   },
   {
    "duration": 30,
    "start_time": "2023-01-24T05:50:01.013Z"
   },
   {
    "duration": 38,
    "start_time": "2023-01-24T05:50:01.044Z"
   },
   {
    "duration": 30,
    "start_time": "2023-01-24T05:50:01.084Z"
   },
   {
    "duration": 51,
    "start_time": "2023-01-24T05:50:01.116Z"
   },
   {
    "duration": 51,
    "start_time": "2023-01-24T05:50:01.169Z"
   },
   {
    "duration": 27,
    "start_time": "2023-01-24T05:50:01.221Z"
   },
   {
    "duration": 65,
    "start_time": "2023-01-24T05:50:01.250Z"
   },
   {
    "duration": 54,
    "start_time": "2023-01-24T06:12:39.663Z"
   },
   {
    "duration": 45,
    "start_time": "2023-01-24T06:15:57.217Z"
   },
   {
    "duration": 497,
    "start_time": "2023-01-24T06:16:09.520Z"
   },
   {
    "duration": 25,
    "start_time": "2023-01-24T06:16:10.019Z"
   },
   {
    "duration": 16,
    "start_time": "2023-01-24T06:16:10.045Z"
   },
   {
    "duration": 10,
    "start_time": "2023-01-24T06:16:10.062Z"
   },
   {
    "duration": 46,
    "start_time": "2023-01-24T06:16:10.075Z"
   },
   {
    "duration": 3,
    "start_time": "2023-01-24T06:16:10.123Z"
   },
   {
    "duration": 12,
    "start_time": "2023-01-24T06:16:10.127Z"
   },
   {
    "duration": 4,
    "start_time": "2023-01-24T06:16:10.140Z"
   },
   {
    "duration": 10,
    "start_time": "2023-01-24T06:16:10.145Z"
   },
   {
    "duration": 7,
    "start_time": "2023-01-24T06:16:10.157Z"
   },
   {
    "duration": 54,
    "start_time": "2023-01-24T06:16:10.165Z"
   },
   {
    "duration": 8,
    "start_time": "2023-01-24T06:16:10.221Z"
   },
   {
    "duration": 8,
    "start_time": "2023-01-24T06:16:10.231Z"
   },
   {
    "duration": 10,
    "start_time": "2023-01-24T06:16:10.242Z"
   },
   {
    "duration": 18,
    "start_time": "2023-01-24T06:16:10.254Z"
   },
   {
    "duration": 36,
    "start_time": "2023-01-24T06:16:10.274Z"
   },
   {
    "duration": 4,
    "start_time": "2023-01-24T06:16:10.312Z"
   },
   {
    "duration": 15,
    "start_time": "2023-01-24T06:16:10.317Z"
   },
   {
    "duration": 11,
    "start_time": "2023-01-24T06:16:10.333Z"
   },
   {
    "duration": 3,
    "start_time": "2023-01-24T06:16:10.346Z"
   },
   {
    "duration": 20,
    "start_time": "2023-01-24T06:16:10.351Z"
   },
   {
    "duration": 22,
    "start_time": "2023-01-24T06:16:10.373Z"
   },
   {
    "duration": 18,
    "start_time": "2023-01-24T06:16:10.403Z"
   },
   {
    "duration": 16,
    "start_time": "2023-01-24T06:16:10.422Z"
   },
   {
    "duration": 15,
    "start_time": "2023-01-24T06:16:10.440Z"
   },
   {
    "duration": 17,
    "start_time": "2023-01-24T06:16:10.457Z"
   },
   {
    "duration": 14,
    "start_time": "2023-01-24T06:17:21.681Z"
   },
   {
    "duration": 6,
    "start_time": "2023-01-24T06:19:17.006Z"
   },
   {
    "duration": 64,
    "start_time": "2023-01-24T06:26:35.210Z"
   },
   {
    "duration": 462,
    "start_time": "2023-01-24T06:27:05.112Z"
   },
   {
    "duration": 22,
    "start_time": "2023-01-24T06:27:05.576Z"
   },
   {
    "duration": 37,
    "start_time": "2023-01-24T06:27:05.600Z"
   },
   {
    "duration": 21,
    "start_time": "2023-01-24T06:27:05.639Z"
   },
   {
    "duration": 66,
    "start_time": "2023-01-24T06:27:05.661Z"
   },
   {
    "duration": 3,
    "start_time": "2023-01-24T06:27:05.729Z"
   },
   {
    "duration": 43,
    "start_time": "2023-01-24T06:27:05.734Z"
   },
   {
    "duration": 15,
    "start_time": "2023-01-24T06:27:05.779Z"
   },
   {
    "duration": 13,
    "start_time": "2023-01-24T06:27:05.795Z"
   },
   {
    "duration": 22,
    "start_time": "2023-01-24T06:27:05.811Z"
   },
   {
    "duration": 61,
    "start_time": "2023-01-24T06:27:05.834Z"
   },
   {
    "duration": 9,
    "start_time": "2023-01-24T06:27:05.898Z"
   },
   {
    "duration": 23,
    "start_time": "2023-01-24T06:27:05.909Z"
   },
   {
    "duration": 38,
    "start_time": "2023-01-24T06:27:05.934Z"
   },
   {
    "duration": 26,
    "start_time": "2023-01-24T06:27:05.974Z"
   },
   {
    "duration": 17,
    "start_time": "2023-01-24T06:27:06.001Z"
   },
   {
    "duration": 4,
    "start_time": "2023-01-24T06:27:06.019Z"
   },
   {
    "duration": 40,
    "start_time": "2023-01-24T06:27:06.024Z"
   },
   {
    "duration": 24,
    "start_time": "2023-01-24T06:27:06.066Z"
   },
   {
    "duration": 10,
    "start_time": "2023-01-24T06:27:06.091Z"
   },
   {
    "duration": 24,
    "start_time": "2023-01-24T06:27:06.103Z"
   },
   {
    "duration": 27,
    "start_time": "2023-01-24T06:27:06.129Z"
   },
   {
    "duration": 6,
    "start_time": "2023-01-24T06:27:06.158Z"
   },
   {
    "duration": 21,
    "start_time": "2023-01-24T06:27:06.165Z"
   },
   {
    "duration": 16,
    "start_time": "2023-01-24T06:27:06.188Z"
   },
   {
    "duration": 69,
    "start_time": "2023-01-24T06:27:06.206Z"
   },
   {
    "duration": 0,
    "start_time": "2023-01-24T06:27:06.277Z"
   },
   {
    "duration": 6,
    "start_time": "2023-01-24T06:27:11.044Z"
   },
   {
    "duration": 7,
    "start_time": "2023-01-24T06:27:55.297Z"
   },
   {
    "duration": 5,
    "start_time": "2023-01-24T06:28:54.351Z"
   },
   {
    "duration": 4,
    "start_time": "2023-01-24T06:29:30.731Z"
   },
   {
    "duration": 8,
    "start_time": "2023-01-24T06:30:47.175Z"
   },
   {
    "duration": 17,
    "start_time": "2023-01-24T07:02:22.167Z"
   },
   {
    "duration": 719,
    "start_time": "2023-01-25T06:00:13.080Z"
   },
   {
    "duration": 20,
    "start_time": "2023-01-25T06:00:13.801Z"
   },
   {
    "duration": 14,
    "start_time": "2023-01-25T06:00:13.822Z"
   },
   {
    "duration": 12,
    "start_time": "2023-01-25T06:00:13.839Z"
   },
   {
    "duration": 41,
    "start_time": "2023-01-25T06:00:13.853Z"
   },
   {
    "duration": 3,
    "start_time": "2023-01-25T06:00:13.896Z"
   },
   {
    "duration": 11,
    "start_time": "2023-01-25T06:00:13.901Z"
   },
   {
    "duration": 4,
    "start_time": "2023-01-25T06:00:13.913Z"
   },
   {
    "duration": 31,
    "start_time": "2023-01-25T06:00:13.919Z"
   },
   {
    "duration": 4,
    "start_time": "2023-01-25T06:00:13.952Z"
   },
   {
    "duration": 33,
    "start_time": "2023-01-25T06:00:13.958Z"
   },
   {
    "duration": 9,
    "start_time": "2023-01-25T06:00:13.992Z"
   },
   {
    "duration": 8,
    "start_time": "2023-01-25T06:00:14.003Z"
   },
   {
    "duration": 13,
    "start_time": "2023-01-25T06:00:14.012Z"
   },
   {
    "duration": 36,
    "start_time": "2023-01-25T06:00:14.026Z"
   },
   {
    "duration": 17,
    "start_time": "2023-01-25T06:00:14.063Z"
   },
   {
    "duration": 4,
    "start_time": "2023-01-25T06:00:14.081Z"
   },
   {
    "duration": 24,
    "start_time": "2023-01-25T06:00:14.086Z"
   },
   {
    "duration": 6,
    "start_time": "2023-01-25T06:00:14.111Z"
   },
   {
    "duration": 3,
    "start_time": "2023-01-25T06:00:14.119Z"
   },
   {
    "duration": 36,
    "start_time": "2023-01-25T06:00:14.125Z"
   },
   {
    "duration": 26,
    "start_time": "2023-01-25T06:00:14.162Z"
   },
   {
    "duration": 9,
    "start_time": "2023-01-25T06:00:14.190Z"
   },
   {
    "duration": 17,
    "start_time": "2023-01-25T06:00:14.201Z"
   },
   {
    "duration": 29,
    "start_time": "2023-01-25T06:00:14.220Z"
   },
   {
    "duration": 7,
    "start_time": "2023-01-25T06:00:14.250Z"
   },
   {
    "duration": 20,
    "start_time": "2023-01-25T06:00:14.259Z"
   },
   {
    "duration": 60,
    "start_time": "2023-01-25T09:01:33.562Z"
   },
   {
    "duration": 703,
    "start_time": "2023-01-25T09:04:11.912Z"
   },
   {
    "duration": 24,
    "start_time": "2023-01-25T09:04:12.617Z"
   },
   {
    "duration": 15,
    "start_time": "2023-01-25T09:04:12.642Z"
   },
   {
    "duration": 10,
    "start_time": "2023-01-25T09:04:12.658Z"
   },
   {
    "duration": 55,
    "start_time": "2023-01-25T09:04:12.670Z"
   },
   {
    "duration": 4,
    "start_time": "2023-01-25T09:04:12.727Z"
   },
   {
    "duration": 13,
    "start_time": "2023-01-25T09:04:12.732Z"
   },
   {
    "duration": 4,
    "start_time": "2023-01-25T09:04:12.747Z"
   },
   {
    "duration": 11,
    "start_time": "2023-01-25T09:04:12.753Z"
   },
   {
    "duration": 6,
    "start_time": "2023-01-25T09:04:12.766Z"
   },
   {
    "duration": 66,
    "start_time": "2023-01-25T09:04:12.773Z"
   },
   {
    "duration": 9,
    "start_time": "2023-01-25T09:04:12.841Z"
   },
   {
    "duration": 4,
    "start_time": "2023-01-25T09:04:12.852Z"
   },
   {
    "duration": 12,
    "start_time": "2023-01-25T09:04:12.858Z"
   },
   {
    "duration": 36,
    "start_time": "2023-01-25T09:04:12.872Z"
   },
   {
    "duration": 18,
    "start_time": "2023-01-25T09:04:12.910Z"
   },
   {
    "duration": 3,
    "start_time": "2023-01-25T09:04:12.930Z"
   },
   {
    "duration": 12,
    "start_time": "2023-01-25T09:04:12.935Z"
   },
   {
    "duration": 6,
    "start_time": "2023-01-25T09:04:12.949Z"
   },
   {
    "duration": 4,
    "start_time": "2023-01-25T09:04:12.956Z"
   },
   {
    "duration": 27,
    "start_time": "2023-01-25T09:04:12.999Z"
   },
   {
    "duration": 27,
    "start_time": "2023-01-25T09:04:13.028Z"
   },
   {
    "duration": 6,
    "start_time": "2023-01-25T09:04:13.057Z"
   },
   {
    "duration": 37,
    "start_time": "2023-01-25T09:04:13.065Z"
   },
   {
    "duration": 28,
    "start_time": "2023-01-25T09:04:13.113Z"
   },
   {
    "duration": 7,
    "start_time": "2023-01-25T09:04:13.143Z"
   },
   {
    "duration": 18,
    "start_time": "2023-01-25T09:04:13.151Z"
   }
  ],
  "colab": {
   "provenance": []
  },
  "kernelspec": {
   "display_name": "Python 3 (ipykernel)",
   "language": "python",
   "name": "python3"
  },
  "language_info": {
   "codemirror_mode": {
    "name": "ipython",
    "version": 3
   },
   "file_extension": ".py",
   "mimetype": "text/x-python",
   "name": "python",
   "nbconvert_exporter": "python",
   "pygments_lexer": "ipython3",
   "version": "3.9.7"
  },
  "toc": {
   "base_numbering": 1,
   "nav_menu": {},
   "number_sections": true,
   "sideBar": true,
   "skip_h1_title": true,
   "title_cell": "Table of Contents",
   "title_sidebar": "Contents",
   "toc_cell": false,
   "toc_position": {},
   "toc_section_display": true,
   "toc_window_display": false
  }
 },
 "nbformat": 4,
 "nbformat_minor": 5
}
