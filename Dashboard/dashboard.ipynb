{
 "cells": [
  {
   "cell_type": "markdown",
   "id": "27b8e45e",
   "metadata": {},
   "source": [
    "#  Автоматизация. Дашборд"
   ]
  },
  {
   "cell_type": "code",
   "execution_count": 1,
   "id": "7e1afca3",
   "metadata": {},
   "outputs": [],
   "source": [
    "import warnings\n",
    "warnings.filterwarnings('ignore')"
   ]
  },
  {
   "cell_type": "markdown",
   "id": "c989cf55",
   "metadata": {},
   "source": [
    "Создадим коннекцию к базе, выполним sql-запрос и выгрузим данные из таблицы dash_visits в файл dash_visits.csv:"
   ]
  },
  {
   "cell_type": "code",
   "execution_count": 2,
   "id": "ab26aa35",
   "metadata": {
    "scrolled": true
   },
   "outputs": [
    {
     "data": {
      "text/html": [
       "<div>\n",
       "<style scoped>\n",
       "    .dataframe tbody tr th:only-of-type {\n",
       "        vertical-align: middle;\n",
       "    }\n",
       "\n",
       "    .dataframe tbody tr th {\n",
       "        vertical-align: top;\n",
       "    }\n",
       "\n",
       "    .dataframe thead th {\n",
       "        text-align: right;\n",
       "    }\n",
       "</style>\n",
       "<table border=\"1\" class=\"dataframe\">\n",
       "  <thead>\n",
       "    <tr style=\"text-align: right;\">\n",
       "      <th></th>\n",
       "      <th>record_id</th>\n",
       "      <th>item_topic</th>\n",
       "      <th>source_topic</th>\n",
       "      <th>age_segment</th>\n",
       "      <th>dt</th>\n",
       "      <th>visits</th>\n",
       "    </tr>\n",
       "  </thead>\n",
       "  <tbody>\n",
       "    <tr>\n",
       "      <th>0</th>\n",
       "      <td>1040597</td>\n",
       "      <td>Деньги</td>\n",
       "      <td>Авто</td>\n",
       "      <td>18-25</td>\n",
       "      <td>2019-09-24 18:32:00</td>\n",
       "      <td>3</td>\n",
       "    </tr>\n",
       "    <tr>\n",
       "      <th>1</th>\n",
       "      <td>1040598</td>\n",
       "      <td>Деньги</td>\n",
       "      <td>Авто</td>\n",
       "      <td>18-25</td>\n",
       "      <td>2019-09-24 18:35:00</td>\n",
       "      <td>1</td>\n",
       "    </tr>\n",
       "    <tr>\n",
       "      <th>2</th>\n",
       "      <td>1040599</td>\n",
       "      <td>Деньги</td>\n",
       "      <td>Авто</td>\n",
       "      <td>18-25</td>\n",
       "      <td>2019-09-24 18:54:00</td>\n",
       "      <td>4</td>\n",
       "    </tr>\n",
       "    <tr>\n",
       "      <th>3</th>\n",
       "      <td>1040600</td>\n",
       "      <td>Деньги</td>\n",
       "      <td>Авто</td>\n",
       "      <td>18-25</td>\n",
       "      <td>2019-09-24 18:55:00</td>\n",
       "      <td>17</td>\n",
       "    </tr>\n",
       "    <tr>\n",
       "      <th>4</th>\n",
       "      <td>1040601</td>\n",
       "      <td>Деньги</td>\n",
       "      <td>Авто</td>\n",
       "      <td>18-25</td>\n",
       "      <td>2019-09-24 18:56:00</td>\n",
       "      <td>27</td>\n",
       "    </tr>\n",
       "  </tbody>\n",
       "</table>\n",
       "</div>"
      ],
      "text/plain": [
       "   record_id item_topic source_topic age_segment                  dt  visits\n",
       "0    1040597     Деньги         Авто       18-25 2019-09-24 18:32:00       3\n",
       "1    1040598     Деньги         Авто       18-25 2019-09-24 18:35:00       1\n",
       "2    1040599     Деньги         Авто       18-25 2019-09-24 18:54:00       4\n",
       "3    1040600     Деньги         Авто       18-25 2019-09-24 18:55:00      17\n",
       "4    1040601     Деньги         Авто       18-25 2019-09-24 18:56:00      27"
      ]
     },
     "execution_count": 2,
     "metadata": {},
     "output_type": "execute_result"
    }
   ],
   "source": [
    "# импортируем библиотеки\n",
    "import pandas as pd\n",
    "from sqlalchemy import create_engine, text\n",
    "\n",
    "db_config = {'user': 'praktikum_student', # имя пользователя\n",
    "            'pwd': 'Sdf4$2;d-d30pp', # пароль\n",
    "            'host': 'rc1b-wcoijxj3yxfsf3fs.mdb.yandexcloud.net',\n",
    "            'port': 6432, # порт подключения\n",
    "            'db': 'data-analyst-zen-project-db'} # название базы данных\n",
    "connection_string = 'postgresql://{}:{}@{}:{}/{}'.format(db_config['user'],\n",
    "                                                db_config['pwd'],\n",
    "                                                db_config['host'],\n",
    "                                                db_config['port'],\n",
    "                                                db_config['db'])\n",
    "\n",
    "\n",
    "engine = create_engine(connection_string)\n",
    "query = '''\n",
    "        SELECT * FROM dash_visits \n",
    "        '''\n",
    "\n",
    "dash_visits = pd.DataFrame(engine.connect().execute(text(query)))\n",
    "\n",
    "dash_visits.to_csv('dash_visits.csv')\n",
    "\n",
    "dash_visits.head()"
   ]
  },
  {
   "cell_type": "markdown",
   "id": "4cb28912",
   "metadata": {},
   "source": [
    "## Часть 2. Создание дашборда."
   ]
  },
  {
   "cell_type": "markdown",
   "id": "22dfaa5e",
   "metadata": {},
   "source": [
    "В Tableau Public на основе файла dash_visits.csv сформируем дашборд в соответствии с макетом."
   ]
  },
  {
   "cell_type": "markdown",
   "id": "567a9b99",
   "metadata": {},
   "source": [
    "![title](https://pictures.s3.yandex.net/resources/Untitled_-_2020-07-06T161108.832_1594041107.png)"
   ]
  },
  {
   "cell_type": "markdown",
   "id": "5e09d459",
   "metadata": {},
   "source": [
    "Ссылка на дашборд  Tableau Public\n",
    "https://public.tableau.com/app/profile/elena.kosenko/viz/ProjectDashboard_16863025594120/sheet4  "
   ]
  },
  {
   "cell_type": "markdown",
   "id": "e5de1864",
   "metadata": {},
   "source": [
    "## Шаг 3. Презентация."
   ]
  },
  {
   "cell_type": "markdown",
   "id": "f2e44539",
   "metadata": {},
   "source": [
    "Ответим на вопросы менеджеров, используя дашборд:\n",
    "- Cколько взаимодействий пользователей с карточками происходит в системе с разбивкой по темам карточек?\n",
    "- Как много карточек генерируют источники с разными темами?\n",
    "- Как соотносятся темы карточек и темы источников?\n",
    "- Результаты работы и ответы на вопрос сохраним в презентации:"
   ]
  },
  {
   "cell_type": "markdown",
   "id": "33c54855",
   "metadata": {},
   "source": [
    "https://disk.yandex.ru/i/svfjDKYEnvHLlA"
   ]
  }
 ],
 "metadata": {
  "kernelspec": {
   "display_name": "Python 3 (ipykernel)",
   "language": "python",
   "name": "python3"
  },
  "language_info": {
   "codemirror_mode": {
    "name": "ipython",
    "version": 3
   },
   "file_extension": ".py",
   "mimetype": "text/x-python",
   "name": "python",
   "nbconvert_exporter": "python",
   "pygments_lexer": "ipython3",
   "version": "3.9.7"
  }
 },
 "nbformat": 4,
 "nbformat_minor": 5
}
